{
 "cells": [
  {
   "cell_type": "code",
   "execution_count": null,
   "id": "e01fe417-ab1d-4535-ba79-94f0bc184cc7",
   "metadata": {},
   "outputs": [],
   "source": []
  }
 ],
 "metadata": {
  "kernelspec": {
   "display_name": "",
   "name": ""
  },
  "language_info": {
   "name": ""
  }
 },
 "nbformat": 4,
 "nbformat_minor": 5
}
